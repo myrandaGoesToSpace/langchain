{
 "cells": [
  {
   "cell_type": "markdown",
   "id": "6710ea12",
   "metadata": {},
   "source": [
    "# Question Answering over Documents with Langchain"
   ]
  },
  {
   "cell_type": "code",
   "execution_count": 1,
   "id": "20b99dfe",
   "metadata": {},
   "outputs": [],
   "source": [
    "from langchain.document_loaders import TextLoader, DirectoryLoader, PyPDFLoader\n",
    "from langchain.indexes import VectorstoreIndexCreator\n",
    "from langchain.chains.question_answering import load_qa_chain\n",
    "from langchain.chains.qa_with_sources import load_qa_with_sources_chain\n",
    "from langchain.llms import OpenAI\n",
    "import os"
   ]
  },
  {
   "cell_type": "code",
   "execution_count": 2,
   "id": "54b01fcd",
   "metadata": {},
   "outputs": [],
   "source": [
    "# ONLY USE IF KEY IS SAVED IN FILE\n",
    "\n",
    "# Change this path to your key location\n",
    "path_to_key = \"../openai-api-key.txt\"\n",
    "\n",
    "with open(path_to_key) as fo:\n",
    "    key = fo.readline()\n",
    "    \n",
    "os.environ[\"OPENAI_API_KEY\"] = key.strip()"
   ]
  },
  {
   "cell_type": "markdown",
   "id": "6b156557",
   "metadata": {},
   "source": [
    "## Q/A with a single document"
   ]
  },
  {
   "cell_type": "code",
   "execution_count": 26,
   "id": "c877bad5",
   "metadata": {},
   "outputs": [],
   "source": [
    "path_to_file = \"./state_of_the_union.txt\"\n",
    "loader = TextLoader(path_to_file)"
   ]
  },
  {
   "cell_type": "code",
   "execution_count": 27,
   "id": "aba25058",
   "metadata": {
    "scrolled": true
   },
   "outputs": [
    {
     "name": "stderr",
     "output_type": "stream",
     "text": [
      "Using embedded DuckDB without persistence: data will be transient\n"
     ]
    }
   ],
   "source": [
    "index = VectorstoreIndexCreator().from_loaders([loader])"
   ]
  },
  {
   "cell_type": "code",
   "execution_count": 11,
   "id": "e738140a",
   "metadata": {},
   "outputs": [
    {
     "data": {
      "text/plain": [
       "' The author\\'s main thesis in this document is that the government should take action to protect the rights of citizens and to provide economic relief. They should do this by providing a pathway to citizenship for immigrants, protecting access to health care, supporting veterans, and demanding more competition from corporations. Direct quotes from the document include: \"Provide a pathway to citizenship for Dreamers, those on temporary status, farm workers, and essential workers\" and \"It’s time to strengthen privacy protections, ban targeted advertising to children, demand tech companies stop collecting personal data on our children.\"'"
      ]
     },
     "execution_count": 11,
     "metadata": {},
     "output_type": "execute_result"
    }
   ],
   "source": [
    "query = \"What is the author's main thesis in this document? Support your summary with direct quotes from the document.\"\n",
    "index.query(query)"
   ]
  },
  {
   "cell_type": "code",
   "execution_count": 12,
   "id": "d03b4a75",
   "metadata": {},
   "outputs": [
    {
     "data": {
      "text/plain": [
       "{'question': \"What is the author's main thesis in this document? Support your summary with direct quotes from the document.\",\n",
       " 'answer': ' The author\\'s main thesis in this document is that the government should take action to protect the rights of citizens, including providing a pathway to citizenship for Dreamers, strengthening privacy protections, providing mental health services, supporting veterans, and increasing competition in the market. \\n\\n\"Provide a pathway to citizenship for Dreamers, those on temporary status, farm workers, and essential workers...Let’s get it done once and for all...The constitutional right affirmed in Roe v. Wade—standing precedent for half a century—is under attack as never before...If we want to go forward—not backward—we must protect access to health care. Preserve a woman’s right to choose. And let’s continue to advance maternal health care in America...It’s time to strengthen privacy protections, ban targeted advertising to children, demand tech companies stop collecting personal data on our children...My administration is providing assistance with job training and housing, and now helping lower-income veterans get VA care debt-free...It’s not only the right thing to do—it’s the economically smart thing to do...We’re going after the criminals who stole billions in relief money meant for small businesses and millions of Americans...Lowering',\n",
       " 'sources': ''}"
      ]
     },
     "execution_count": 12,
     "metadata": {},
     "output_type": "execute_result"
    }
   ],
   "source": [
    "index.query_with_sources(query)"
   ]
  },
  {
   "cell_type": "code",
   "execution_count": 14,
   "id": "4c4ce5ad",
   "metadata": {},
   "outputs": [
    {
     "data": {
      "text/plain": [
       "' This document does not mention a transformer model.'"
      ]
     },
     "execution_count": 14,
     "metadata": {},
     "output_type": "execute_result"
    }
   ],
   "source": [
    "# Test that it only queries the document\n",
    "query = \"According to the paper, what is a transformer model and what can they be used for? Use only the given document for your answers.\"\n",
    "index.query(query)"
   ]
  },
  {
   "cell_type": "code",
   "execution_count": 15,
   "id": "90f2b535",
   "metadata": {},
   "outputs": [
    {
     "data": {
      "text/plain": [
       "\" I don't know.\""
      ]
     },
     "execution_count": 15,
     "metadata": {},
     "output_type": "execute_result"
    }
   ],
   "source": [
    "query = \"What is a transformer model and what can they be used for?\"\n",
    "index.query(query)"
   ]
  },
  {
   "cell_type": "code",
   "execution_count": 29,
   "id": "7dafdc35",
   "metadata": {},
   "outputs": [
    {
     "data": {
      "text/plain": [
       "\" I don't know.\""
      ]
     },
     "execution_count": 29,
     "metadata": {},
     "output_type": "execute_result"
    }
   ],
   "source": [
    "query = \"What is linear regression?\"\n",
    "index.query(query)"
   ]
  },
  {
   "cell_type": "markdown",
   "id": "1958ccaa",
   "metadata": {},
   "source": [
    "### Q/A over PDFs"
   ]
  },
  {
   "cell_type": "code",
   "execution_count": 16,
   "id": "5b6b79c3",
   "metadata": {},
   "outputs": [
    {
     "name": "stderr",
     "output_type": "stream",
     "text": [
      "Using embedded DuckDB without persistence: data will be transient\n"
     ]
    }
   ],
   "source": [
    "path_to_pdf = \"./research_papers/attention_is_all_you_need.pdf\"\n",
    "loader = PyPDFLoader(path_to_pdf)\n",
    "index = VectorstoreIndexCreator().from_loaders([loader])\n"
   ]
  },
  {
   "cell_type": "code",
   "execution_count": 17,
   "id": "226f57a4",
   "metadata": {},
   "outputs": [
    {
     "data": {
      "text/plain": [
       "' A transformer model is a sequence transduction model based entirely on attention mechanisms, which can be used for machine translation tasks and English constituency parsing.'"
      ]
     },
     "execution_count": 17,
     "metadata": {},
     "output_type": "execute_result"
    }
   ],
   "source": [
    "query = \"According to the paper, what is a transformer model and what can they be used for? Use only the given document for your answers.\"\n",
    "index.query(query)"
   ]
  },
  {
   "cell_type": "code",
   "execution_count": 21,
   "id": "142e8698",
   "metadata": {},
   "outputs": [
    {
     "data": {
      "text/plain": [
       "' Linear regression is a statistical method used to model the relationship between a dependent variable and one or more independent variables. It is used to predict the value of the dependent variable based on the values of the independent variables.'"
      ]
     },
     "execution_count": 21,
     "metadata": {},
     "output_type": "execute_result"
    }
   ],
   "source": [
    "# Test that it only queries the document\n",
    "query = \"What is linear regression?\"\n",
    "index.query(query)"
   ]
  },
  {
   "cell_type": "code",
   "execution_count": 22,
   "id": "9953f102",
   "metadata": {},
   "outputs": [
    {
     "data": {
      "text/plain": [
       "{'question': 'What is linear regression?',\n",
       " 'answer': ' Linear regression is a statistical technique used to model the relationship between a dependent variable and one or more independent variables. It is used to predict the value of the dependent variable based on the values of the independent variables.\\n',\n",
       " 'sources': 'https://en.wikipedia.org/wiki/Linear_regression'}"
      ]
     },
     "execution_count": 22,
     "metadata": {},
     "output_type": "execute_result"
    }
   ],
   "source": [
    "index.query_with_sources(query)"
   ]
  },
  {
   "cell_type": "code",
   "execution_count": null,
   "id": "e5ad75bc",
   "metadata": {},
   "outputs": [],
   "source": []
  },
  {
   "cell_type": "code",
   "execution_count": 24,
   "id": "ee287c01",
   "metadata": {
    "scrolled": true
   },
   "outputs": [
    {
     "data": {
      "text/plain": [
       "' Linear regression is not mentioned in the given document.'"
      ]
     },
     "execution_count": 24,
     "metadata": {},
     "output_type": "execute_result"
    }
   ],
   "source": [
    "# Test that it only queries the document\n",
    "query = \"What is linear regression? Use only the given document to construct your answer.\"\n",
    "index.query(query)"
   ]
  },
  {
   "cell_type": "code",
   "execution_count": 25,
   "id": "df16bfd2",
   "metadata": {
    "scrolled": true
   },
   "outputs": [
    {
     "data": {
      "text/plain": [
       "{'question': 'What is linear regression? Use only the given document to construct your answer.',\n",
       " 'answer': ' Linear regression is not mentioned in the given document.\\n',\n",
       " 'sources': './research_papers/attention_is_all_you_need.pdf'}"
      ]
     },
     "execution_count": 25,
     "metadata": {},
     "output_type": "execute_result"
    }
   ],
   "source": [
    "index.query_with_sources(query)"
   ]
  },
  {
   "cell_type": "code",
   "execution_count": null,
   "id": "9e028eb7",
   "metadata": {},
   "outputs": [],
   "source": []
  },
  {
   "cell_type": "markdown",
   "id": "13108130",
   "metadata": {},
   "source": [
    "## Q/A with multiple documents using VectorStore"
   ]
  },
  {
   "cell_type": "code",
   "execution_count": 30,
   "id": "89f7d6f0",
   "metadata": {},
   "outputs": [],
   "source": [
    "from langchain.embeddings.openai import OpenAIEmbeddings\n",
    "from langchain.text_splitter import CharacterTextSplitter\n",
    "from langchain.vectorstores import Chroma\n",
    "from langchain.docstore.document import Document\n",
    "from langchain.prompts import PromptTemplate\n",
    "from langchain.indexes.vectorstore import VectorstoreIndexCreator\n",
    "from langchain.chains import RetrievalQA"
   ]
  },
  {
   "cell_type": "code",
   "execution_count": 31,
   "id": "b6765640",
   "metadata": {},
   "outputs": [
    {
     "name": "stdout",
     "output_type": "stream",
     "text": [
      "27\n"
     ]
    }
   ],
   "source": [
    "directory = \"./research_papers\"\n",
    "loader = DirectoryLoader(directory, glob = \"*.pdf\", loader_cls=PyPDFLoader) # can add loader_cls=TextLoader to change loader type\n",
    "documents = loader.load()\n",
    "print(len(documents))"
   ]
  },
  {
   "cell_type": "code",
   "execution_count": 32,
   "id": "74680384",
   "metadata": {},
   "outputs": [],
   "source": [
    "text_splitter = CharacterTextSplitter(chunk_size = 1000, chunk_overlap = 0)\n",
    "texts = text_splitter.split_documents(documents)"
   ]
  },
  {
   "cell_type": "code",
   "execution_count": 33,
   "id": "0c8ee870",
   "metadata": {},
   "outputs": [
    {
     "name": "stderr",
     "output_type": "stream",
     "text": [
      "Using embedded DuckDB without persistence: data will be transient\n"
     ]
    }
   ],
   "source": [
    "embeddings = OpenAIEmbeddings()\n",
    "docsearch = Chroma.from_documents(texts, embeddings)"
   ]
  },
  {
   "cell_type": "code",
   "execution_count": 40,
   "id": "9a80a952",
   "metadata": {},
   "outputs": [],
   "source": [
    "qa = RetrievalQA.from_chain_type(llm = OpenAI(), chain_type = \"stuff\", retriever = docsearch.as_retriever())"
   ]
  },
  {
   "cell_type": "code",
   "execution_count": 41,
   "id": "286decae",
   "metadata": {},
   "outputs": [
    {
     "data": {
      "text/plain": [
       "' GPT (Generative Pre-Training) is a language model developed by OpenAI that uses a diverse corpus of unlabeled text to pre-train a language model, followed by discriminative fine-tuning on specific tasks.'"
      ]
     },
     "execution_count": 41,
     "metadata": {},
     "output_type": "execute_result"
    }
   ],
   "source": [
    "query = \"According to the given documents, what is a GPT model? Use only the given documents to construct your answer.\"\n",
    "qa.run(query)"
   ]
  },
  {
   "cell_type": "code",
   "execution_count": null,
   "id": "7c375709",
   "metadata": {},
   "outputs": [],
   "source": []
  },
  {
   "cell_type": "markdown",
   "id": "d7659e32",
   "metadata": {},
   "source": []
  }
 ],
 "metadata": {
  "kernelspec": {
   "display_name": "Python 3 (ipykernel)",
   "language": "python",
   "name": "python3"
  },
  "language_info": {
   "codemirror_mode": {
    "name": "ipython",
    "version": 3
   },
   "file_extension": ".py",
   "mimetype": "text/x-python",
   "name": "python",
   "nbconvert_exporter": "python",
   "pygments_lexer": "ipython3",
   "version": "3.10.6"
  }
 },
 "nbformat": 4,
 "nbformat_minor": 5
}
